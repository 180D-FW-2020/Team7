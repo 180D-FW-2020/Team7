{
 "cells": [
  {
   "cell_type": "code",
   "execution_count": 1,
   "id": "corporate-boring",
   "metadata": {
    "scrolled": true
   },
   "outputs": [
    {
     "name": "stdout",
     "output_type": "stream",
     "text": [
      "Requirement already satisfied: plotly==4.14.3 in /home/ken/anaconda3/envs/env/lib/python3.7/site-packages (4.14.3)\n",
      "Requirement already satisfied: chart_studio in /home/ken/anaconda3/envs/env/lib/python3.7/site-packages (1.1.0)\n",
      "Requirement already satisfied: cufflinks in /home/ken/anaconda3/envs/env/lib/python3.7/site-packages (0.17.3)\n",
      "Requirement already satisfied: pandas in /home/ken/anaconda3/envs/env/lib/python3.7/site-packages (1.2.0)\n",
      "Requirement already satisfied: joblib in /home/ken/anaconda3/envs/env/lib/python3.7/site-packages (1.0.0)\n",
      "Requirement already satisfied: requests in /home/ken/anaconda3/envs/env/lib/python3.7/site-packages (from chart_studio) (2.25.0)\n",
      "Requirement already satisfied: six in /home/ken/anaconda3/envs/env/lib/python3.7/site-packages (from chart_studio) (1.15.0)\n",
      "Requirement already satisfied: plotly==4.14.3 in /home/ken/anaconda3/envs/env/lib/python3.7/site-packages (4.14.3)\n",
      "Requirement already satisfied: retrying>=1.3.3 in /home/ken/anaconda3/envs/env/lib/python3.7/site-packages (from chart_studio) (1.3.3)\n",
      "Requirement already satisfied: six in /home/ken/anaconda3/envs/env/lib/python3.7/site-packages (from chart_studio) (1.15.0)\n",
      "Requirement already satisfied: ipywidgets>=7.0.0 in /home/ken/anaconda3/envs/env/lib/python3.7/site-packages (from cufflinks) (7.6.3)\n",
      "Requirement already satisfied: pandas in /home/ken/anaconda3/envs/env/lib/python3.7/site-packages (1.2.0)\n",
      "Requirement already satisfied: setuptools>=34.4.1 in /home/ken/anaconda3/envs/env/lib/python3.7/site-packages (from cufflinks) (51.0.0.post20201207)\n",
      "Requirement already satisfied: colorlover>=0.2.1 in /home/ken/anaconda3/envs/env/lib/python3.7/site-packages (from cufflinks) (0.3.0)\n",
      "Requirement already satisfied: plotly==4.14.3 in /home/ken/anaconda3/envs/env/lib/python3.7/site-packages (4.14.3)\n",
      "Requirement already satisfied: numpy>=1.9.2 in /home/ken/anaconda3/envs/env/lib/python3.7/site-packages (from cufflinks) (1.19.2)\n",
      "Requirement already satisfied: ipython>=5.3.0 in /home/ken/anaconda3/envs/env/lib/python3.7/site-packages (from cufflinks) (7.20.0)\n",
      "Requirement already satisfied: python-dateutil>=2.7.3 in /home/ken/anaconda3/envs/env/lib/python3.7/site-packages (from pandas) (2.8.1)\n",
      "Requirement already satisfied: pytz>=2017.3 in /home/ken/anaconda3/envs/env/lib/python3.7/site-packages (from pandas) (2020.5)\n",
      "Requirement already satisfied: numpy>=1.9.2 in /home/ken/anaconda3/envs/env/lib/python3.7/site-packages (from cufflinks) (1.19.2)\n",
      "Requirement already satisfied: six in /home/ken/anaconda3/envs/env/lib/python3.7/site-packages (from chart_studio) (1.15.0)\n",
      "Requirement already satisfied: retrying>=1.3.3 in /home/ken/anaconda3/envs/env/lib/python3.7/site-packages (from chart_studio) (1.3.3)\n",
      "Requirement already satisfied: setuptools>=34.4.1 in /home/ken/anaconda3/envs/env/lib/python3.7/site-packages (from cufflinks) (51.0.0.post20201207)\n",
      "Requirement already satisfied: decorator in /home/ken/anaconda3/envs/env/lib/python3.7/site-packages (from ipython>=5.3.0->cufflinks) (4.4.2)\n",
      "Requirement already satisfied: prompt-toolkit!=3.0.0,!=3.0.1,<3.1.0,>=2.0.0 in /home/ken/anaconda3/envs/env/lib/python3.7/site-packages (from ipython>=5.3.0->cufflinks) (3.0.8)\n",
      "Requirement already satisfied: pexpect>4.3 in /home/ken/anaconda3/envs/env/lib/python3.7/site-packages (from ipython>=5.3.0->cufflinks) (4.8.0)\n",
      "Requirement already satisfied: jedi>=0.16 in /home/ken/anaconda3/envs/env/lib/python3.7/site-packages (from ipython>=5.3.0->cufflinks) (0.17.0)\n",
      "Requirement already satisfied: pygments in /home/ken/anaconda3/envs/env/lib/python3.7/site-packages (from ipython>=5.3.0->cufflinks) (2.7.4)\n",
      "Requirement already satisfied: pickleshare in /home/ken/anaconda3/envs/env/lib/python3.7/site-packages (from ipython>=5.3.0->cufflinks) (0.7.5)\n",
      "Requirement already satisfied: traitlets>=4.2 in /home/ken/anaconda3/envs/env/lib/python3.7/site-packages (from ipython>=5.3.0->cufflinks) (5.0.5)\n",
      "Requirement already satisfied: backcall in /home/ken/anaconda3/envs/env/lib/python3.7/site-packages (from ipython>=5.3.0->cufflinks) (0.2.0)\n",
      "Requirement already satisfied: widgetsnbextension~=3.5.0 in /home/ken/anaconda3/envs/env/lib/python3.7/site-packages (from ipywidgets>=7.0.0->cufflinks) (3.5.1)\n",
      "Requirement already satisfied: nbformat>=4.2.0 in /home/ken/anaconda3/envs/env/lib/python3.7/site-packages (from ipywidgets>=7.0.0->cufflinks) (5.1.2)\n",
      "Requirement already satisfied: jupyterlab-widgets>=1.0.0 in /home/ken/anaconda3/envs/env/lib/python3.7/site-packages (from ipywidgets>=7.0.0->cufflinks) (1.0.0)\n",
      "Requirement already satisfied: traitlets>=4.2 in /home/ken/anaconda3/envs/env/lib/python3.7/site-packages (from ipython>=5.3.0->cufflinks) (5.0.5)\n",
      "Requirement already satisfied: ipykernel>=4.5.1 in /home/ken/anaconda3/envs/env/lib/python3.7/site-packages (from ipywidgets>=7.0.0->cufflinks) (5.3.4)\n",
      "Requirement already satisfied: ipython>=5.3.0 in /home/ken/anaconda3/envs/env/lib/python3.7/site-packages (from cufflinks) (7.20.0)\n",
      "Requirement already satisfied: jupyter-client in /home/ken/anaconda3/envs/env/lib/python3.7/site-packages (from ipykernel>=4.5.1->ipywidgets>=7.0.0->cufflinks) (6.1.7)\n",
      "Requirement already satisfied: traitlets>=4.2 in /home/ken/anaconda3/envs/env/lib/python3.7/site-packages (from ipython>=5.3.0->cufflinks) (5.0.5)\n",
      "Requirement already satisfied: tornado>=4.2 in /home/ken/anaconda3/envs/env/lib/python3.7/site-packages (from ipykernel>=4.5.1->ipywidgets>=7.0.0->cufflinks) (6.1)\n",
      "Requirement already satisfied: ipython>=5.3.0 in /home/ken/anaconda3/envs/env/lib/python3.7/site-packages (from cufflinks) (7.20.0)\n",
      "Requirement already satisfied: parso>=0.7.0 in /home/ken/anaconda3/envs/env/lib/python3.7/site-packages (from jedi>=0.16->ipython>=5.3.0->cufflinks) (0.8.1)\n",
      "Requirement already satisfied: traitlets>=4.2 in /home/ken/anaconda3/envs/env/lib/python3.7/site-packages (from ipython>=5.3.0->cufflinks) (5.0.5)\n",
      "Requirement already satisfied: pyzmq>=13 in /home/ken/anaconda3/envs/env/lib/python3.7/site-packages (from jupyter-client->ipykernel>=4.5.1->ipywidgets>=7.0.0->cufflinks) (20.0.0)\n",
      "Requirement already satisfied: python-dateutil>=2.7.3 in /home/ken/anaconda3/envs/env/lib/python3.7/site-packages (from pandas) (2.8.1)\n",
      "Requirement already satisfied: jupyter-core>=4.6.0 in /home/ken/anaconda3/envs/env/lib/python3.7/site-packages (from jupyter-client->ipykernel>=4.5.1->ipywidgets>=7.0.0->cufflinks) (4.7.1)\n",
      "Requirement already satisfied: tornado>=4.2 in /home/ken/anaconda3/envs/env/lib/python3.7/site-packages (from ipykernel>=4.5.1->ipywidgets>=7.0.0->cufflinks) (6.1)\n",
      "Requirement already satisfied: traitlets>=4.2 in /home/ken/anaconda3/envs/env/lib/python3.7/site-packages (from ipython>=5.3.0->cufflinks) (5.0.5)\n",
      "Requirement already satisfied: jupyter-core>=4.6.0 in /home/ken/anaconda3/envs/env/lib/python3.7/site-packages (from jupyter-client->ipykernel>=4.5.1->ipywidgets>=7.0.0->cufflinks) (4.7.1)\n",
      "Requirement already satisfied: traitlets>=4.2 in /home/ken/anaconda3/envs/env/lib/python3.7/site-packages (from ipython>=5.3.0->cufflinks) (5.0.5)\n",
      "Requirement already satisfied: ipython-genutils in /home/ken/anaconda3/envs/env/lib/python3.7/site-packages (from nbformat>=4.2.0->ipywidgets>=7.0.0->cufflinks) (0.2.0)\n",
      "Requirement already satisfied: jsonschema!=2.5.0,>=2.4 in /home/ken/anaconda3/envs/env/lib/python3.7/site-packages (from nbformat>=4.2.0->ipywidgets>=7.0.0->cufflinks) (3.2.0)\n",
      "Requirement already satisfied: importlib-metadata in /home/ken/anaconda3/envs/env/lib/python3.7/site-packages (from jsonschema!=2.5.0,>=2.4->nbformat>=4.2.0->ipywidgets>=7.0.0->cufflinks) (2.0.0)\n",
      "Requirement already satisfied: six in /home/ken/anaconda3/envs/env/lib/python3.7/site-packages (from chart_studio) (1.15.0)\n",
      "Requirement already satisfied: attrs>=17.4.0 in /home/ken/anaconda3/envs/env/lib/python3.7/site-packages (from jsonschema!=2.5.0,>=2.4->nbformat>=4.2.0->ipywidgets>=7.0.0->cufflinks) (20.3.0)\n",
      "Requirement already satisfied: setuptools>=34.4.1 in /home/ken/anaconda3/envs/env/lib/python3.7/site-packages (from cufflinks) (51.0.0.post20201207)\n",
      "Requirement already satisfied: pyrsistent>=0.14.0 in /home/ken/anaconda3/envs/env/lib/python3.7/site-packages (from jsonschema!=2.5.0,>=2.4->nbformat>=4.2.0->ipywidgets>=7.0.0->cufflinks) (0.17.3)\n"
     ]
    },
    {
     "name": "stdout",
     "output_type": "stream",
     "text": [
      "Requirement already satisfied: zipp>=0.5 in /home/ken/anaconda3/envs/env/lib/python3.7/site-packages (from importlib-metadata->jsonschema!=2.5.0,>=2.4->nbformat>=4.2.0->ipywidgets>=7.0.0->cufflinks) (3.4.0)\n",
      "Requirement already satisfied: ptyprocess>=0.5 in /home/ken/anaconda3/envs/env/lib/python3.7/site-packages (from pexpect>4.3->ipython>=5.3.0->cufflinks) (0.7.0)\n",
      "Requirement already satisfied: wcwidth in /home/ken/anaconda3/envs/env/lib/python3.7/site-packages (from prompt-toolkit!=3.0.0,!=3.0.1,<3.1.0,>=2.0.0->ipython>=5.3.0->cufflinks) (0.2.5)\n",
      "Requirement already satisfied: six in /home/ken/anaconda3/envs/env/lib/python3.7/site-packages (from chart_studio) (1.15.0)\n",
      "Requirement already satisfied: idna<3,>=2.5 in /home/ken/anaconda3/envs/env/lib/python3.7/site-packages (from requests->chart_studio) (2.10)\n",
      "Requirement already satisfied: chardet<4,>=3.0.2 in /home/ken/anaconda3/envs/env/lib/python3.7/site-packages (from requests->chart_studio) (3.0.4)\n",
      "Requirement already satisfied: urllib3<1.27,>=1.21.1 in /home/ken/anaconda3/envs/env/lib/python3.7/site-packages (from requests->chart_studio) (1.26.2)\n",
      "Requirement already satisfied: certifi>=2017.4.17 in /home/ken/anaconda3/envs/env/lib/python3.7/site-packages (from requests->chart_studio) (2020.12.5)\n",
      "Requirement already satisfied: six in /home/ken/anaconda3/envs/env/lib/python3.7/site-packages (from chart_studio) (1.15.0)\n",
      "Requirement already satisfied: ipython-genutils in /home/ken/anaconda3/envs/env/lib/python3.7/site-packages (from nbformat>=4.2.0->ipywidgets>=7.0.0->cufflinks) (0.2.0)\n",
      "Requirement already satisfied: notebook>=4.4.1 in /home/ken/anaconda3/envs/env/lib/python3.7/site-packages (from widgetsnbextension~=3.5.0->ipywidgets>=7.0.0->cufflinks) (6.2.0)\n",
      "Requirement already satisfied: jupyter-client in /home/ken/anaconda3/envs/env/lib/python3.7/site-packages (from ipykernel>=4.5.1->ipywidgets>=7.0.0->cufflinks) (6.1.7)\n",
      "Requirement already satisfied: Send2Trash>=1.5.0 in /home/ken/anaconda3/envs/env/lib/python3.7/site-packages (from notebook>=4.4.1->widgetsnbextension~=3.5.0->ipywidgets>=7.0.0->cufflinks) (1.5.0)\n",
      "Requirement already satisfied: pyzmq>=13 in /home/ken/anaconda3/envs/env/lib/python3.7/site-packages (from jupyter-client->ipykernel>=4.5.1->ipywidgets>=7.0.0->cufflinks) (20.0.0)\n",
      "Requirement already satisfied: jupyter-core>=4.6.0 in /home/ken/anaconda3/envs/env/lib/python3.7/site-packages (from jupyter-client->ipykernel>=4.5.1->ipywidgets>=7.0.0->cufflinks) (4.7.1)\n",
      "Requirement already satisfied: tornado>=4.2 in /home/ken/anaconda3/envs/env/lib/python3.7/site-packages (from ipykernel>=4.5.1->ipywidgets>=7.0.0->cufflinks) (6.1)\n",
      "Requirement already satisfied: jinja2 in /home/ken/anaconda3/envs/env/lib/python3.7/site-packages (from notebook>=4.4.1->widgetsnbextension~=3.5.0->ipywidgets>=7.0.0->cufflinks) (2.11.3)\n",
      "Requirement already satisfied: nbconvert in /home/ken/anaconda3/envs/env/lib/python3.7/site-packages (from notebook>=4.4.1->widgetsnbextension~=3.5.0->ipywidgets>=7.0.0->cufflinks) (6.0.7)\n",
      "Requirement already satisfied: nbformat>=4.2.0 in /home/ken/anaconda3/envs/env/lib/python3.7/site-packages (from ipywidgets>=7.0.0->cufflinks) (5.1.2)\n",
      "Requirement already satisfied: traitlets>=4.2 in /home/ken/anaconda3/envs/env/lib/python3.7/site-packages (from ipython>=5.3.0->cufflinks) (5.0.5)\n",
      "Requirement already satisfied: prometheus-client in /home/ken/anaconda3/envs/env/lib/python3.7/site-packages (from notebook>=4.4.1->widgetsnbextension~=3.5.0->ipywidgets>=7.0.0->cufflinks) (0.9.0)\n",
      "Requirement already satisfied: terminado>=0.8.3 in /home/ken/anaconda3/envs/env/lib/python3.7/site-packages (from notebook>=4.4.1->widgetsnbextension~=3.5.0->ipywidgets>=7.0.0->cufflinks) (0.9.2)\n",
      "Requirement already satisfied: argon2-cffi in /home/ken/anaconda3/envs/env/lib/python3.7/site-packages (from notebook>=4.4.1->widgetsnbextension~=3.5.0->ipywidgets>=7.0.0->cufflinks) (20.1.0)\n",
      "Requirement already satisfied: ipykernel>=4.5.1 in /home/ken/anaconda3/envs/env/lib/python3.7/site-packages (from ipywidgets>=7.0.0->cufflinks) (5.3.4)\n",
      "Requirement already satisfied: ipython-genutils in /home/ken/anaconda3/envs/env/lib/python3.7/site-packages (from nbformat>=4.2.0->ipywidgets>=7.0.0->cufflinks) (0.2.0)\n",
      "Requirement already satisfied: six in /home/ken/anaconda3/envs/env/lib/python3.7/site-packages (from chart_studio) (1.15.0)\n",
      "Requirement already satisfied: cffi>=1.0.0 in /home/ken/anaconda3/envs/env/lib/python3.7/site-packages (from argon2-cffi->notebook>=4.4.1->widgetsnbextension~=3.5.0->ipywidgets>=7.0.0->cufflinks) (1.14.4)\n",
      "Requirement already satisfied: pycparser in /home/ken/anaconda3/envs/env/lib/python3.7/site-packages (from cffi>=1.0.0->argon2-cffi->notebook>=4.4.1->widgetsnbextension~=3.5.0->ipywidgets>=7.0.0->cufflinks) (2.20)\n",
      "Requirement already satisfied: MarkupSafe>=0.23 in /home/ken/anaconda3/envs/env/lib/python3.7/site-packages (from jinja2->notebook>=4.4.1->widgetsnbextension~=3.5.0->ipywidgets>=7.0.0->cufflinks) (1.1.1)\n",
      "Requirement already satisfied: jupyterlab-pygments in /home/ken/anaconda3/envs/env/lib/python3.7/site-packages (from nbconvert->notebook>=4.4.1->widgetsnbextension~=3.5.0->ipywidgets>=7.0.0->cufflinks) (0.1.2)\n",
      "Requirement already satisfied: jinja2 in /home/ken/anaconda3/envs/env/lib/python3.7/site-packages (from notebook>=4.4.1->widgetsnbextension~=3.5.0->ipywidgets>=7.0.0->cufflinks) (2.11.3)\n",
      "Requirement already satisfied: pygments in /home/ken/anaconda3/envs/env/lib/python3.7/site-packages (from ipython>=5.3.0->cufflinks) (2.7.4)\n",
      "Requirement already satisfied: pandocfilters>=1.4.1 in /home/ken/anaconda3/envs/env/lib/python3.7/site-packages (from nbconvert->notebook>=4.4.1->widgetsnbextension~=3.5.0->ipywidgets>=7.0.0->cufflinks) (1.4.3)\n",
      "Requirement already satisfied: nbclient<0.6.0,>=0.5.0 in /home/ken/anaconda3/envs/env/lib/python3.7/site-packages (from nbconvert->notebook>=4.4.1->widgetsnbextension~=3.5.0->ipywidgets>=7.0.0->cufflinks) (0.5.1)\n",
      "Requirement already satisfied: testpath in /home/ken/anaconda3/envs/env/lib/python3.7/site-packages (from nbconvert->notebook>=4.4.1->widgetsnbextension~=3.5.0->ipywidgets>=7.0.0->cufflinks) (0.4.4)\n",
      "Requirement already satisfied: jupyter-core>=4.6.0 in /home/ken/anaconda3/envs/env/lib/python3.7/site-packages (from jupyter-client->ipykernel>=4.5.1->ipywidgets>=7.0.0->cufflinks) (4.7.1)\n",
      "Requirement already satisfied: mistune<2,>=0.8.1 in /home/ken/anaconda3/envs/env/lib/python3.7/site-packages (from nbconvert->notebook>=4.4.1->widgetsnbextension~=3.5.0->ipywidgets>=7.0.0->cufflinks) (0.8.4)\n",
      "Requirement already satisfied: entrypoints>=0.2.2 in /home/ken/anaconda3/envs/env/lib/python3.7/site-packages (from nbconvert->notebook>=4.4.1->widgetsnbextension~=3.5.0->ipywidgets>=7.0.0->cufflinks) (0.3)\n",
      "Requirement already satisfied: defusedxml in /home/ken/anaconda3/envs/env/lib/python3.7/site-packages (from nbconvert->notebook>=4.4.1->widgetsnbextension~=3.5.0->ipywidgets>=7.0.0->cufflinks) (0.6.0)\n",
      "Requirement already satisfied: traitlets>=4.2 in /home/ken/anaconda3/envs/env/lib/python3.7/site-packages (from ipython>=5.3.0->cufflinks) (5.0.5)\n",
      "Requirement already satisfied: bleach in /home/ken/anaconda3/envs/env/lib/python3.7/site-packages (from nbconvert->notebook>=4.4.1->widgetsnbextension~=3.5.0->ipywidgets>=7.0.0->cufflinks) (3.3.0)\n",
      "Requirement already satisfied: nbformat>=4.2.0 in /home/ken/anaconda3/envs/env/lib/python3.7/site-packages (from ipywidgets>=7.0.0->cufflinks) (5.1.2)\n",
      "Requirement already satisfied: six in /home/ken/anaconda3/envs/env/lib/python3.7/site-packages (from chart_studio) (1.15.0)\n",
      "Requirement already satisfied: webencodings in /home/ken/anaconda3/envs/env/lib/python3.7/site-packages (from bleach->nbconvert->notebook>=4.4.1->widgetsnbextension~=3.5.0->ipywidgets>=7.0.0->cufflinks) (0.5.1)\n",
      "Requirement already satisfied: packaging in /home/ken/anaconda3/envs/env/lib/python3.7/site-packages (from bleach->nbconvert->notebook>=4.4.1->widgetsnbextension~=3.5.0->ipywidgets>=7.0.0->cufflinks) (20.9)\n",
      "Requirement already satisfied: pygments in /home/ken/anaconda3/envs/env/lib/python3.7/site-packages (from ipython>=5.3.0->cufflinks) (2.7.4)\n",
      "Requirement already satisfied: nbformat>=4.2.0 in /home/ken/anaconda3/envs/env/lib/python3.7/site-packages (from ipywidgets>=7.0.0->cufflinks) (5.1.2)\n",
      "Requirement already satisfied: jupyter-client in /home/ken/anaconda3/envs/env/lib/python3.7/site-packages (from ipykernel>=4.5.1->ipywidgets>=7.0.0->cufflinks) (6.1.7)\n",
      "Requirement already satisfied: async-generator in /home/ken/anaconda3/envs/env/lib/python3.7/site-packages (from nbclient<0.6.0,>=0.5.0->nbconvert->notebook>=4.4.1->widgetsnbextension~=3.5.0->ipywidgets>=7.0.0->cufflinks) (1.10)\n",
      "Requirement already satisfied: traitlets>=4.2 in /home/ken/anaconda3/envs/env/lib/python3.7/site-packages (from ipython>=5.3.0->cufflinks) (5.0.5)\n",
      "Requirement already satisfied: nest-asyncio in /home/ken/anaconda3/envs/env/lib/python3.7/site-packages (from nbclient<0.6.0,>=0.5.0->nbconvert->notebook>=4.4.1->widgetsnbextension~=3.5.0->ipywidgets>=7.0.0->cufflinks) (1.4.3)\n",
      "Requirement already satisfied: pyparsing>=2.0.2 in /home/ken/anaconda3/envs/env/lib/python3.7/site-packages (from packaging->bleach->nbconvert->notebook>=4.4.1->widgetsnbextension~=3.5.0->ipywidgets>=7.0.0->cufflinks) (2.4.7)\n"
     ]
    },
    {
     "name": "stdout",
     "output_type": "stream",
     "text": [
      "Requirement already satisfied: tornado>=4.2 in /home/ken/anaconda3/envs/env/lib/python3.7/site-packages (from ipykernel>=4.5.1->ipywidgets>=7.0.0->cufflinks) (6.1)\r\n",
      "Requirement already satisfied: ptyprocess>=0.5 in /home/ken/anaconda3/envs/env/lib/python3.7/site-packages (from pexpect>4.3->ipython>=5.3.0->cufflinks) (0.7.0)\r\n"
     ]
    }
   ],
   "source": [
    "!pip install plotly==4.14.3 chart_studio cufflinks pandas joblib"
   ]
  },
  {
   "cell_type": "code",
   "execution_count": 17,
   "id": "secondary-circuit",
   "metadata": {},
   "outputs": [
    {
     "name": "stdout",
     "output_type": "stream",
     "text": [
      "The autoreload extension is already loaded. To reload it, use:\n",
      "  %reload_ext autoreload\n"
     ]
    },
    {
     "data": {
      "text/html": [
       "        <script type=\"text/javascript\">\n",
       "        window.PlotlyConfig = {MathJaxConfig: 'local'};\n",
       "        if (window.MathJax) {MathJax.Hub.Config({SVG: {font: \"STIX-Web\"}});}\n",
       "        if (typeof require !== 'undefined') {\n",
       "        require.undef(\"plotly\");\n",
       "        requirejs.config({\n",
       "            paths: {\n",
       "                'plotly': ['https://cdn.plot.ly/plotly-latest.min']\n",
       "            }\n",
       "        });\n",
       "        require(['plotly'], function(Plotly) {\n",
       "            window._Plotly = Plotly;\n",
       "        });\n",
       "        }\n",
       "        </script>\n",
       "        "
      ]
     },
     "metadata": {},
     "output_type": "display_data"
    },
    {
     "data": {
      "text/html": [
       "        <script type=\"text/javascript\">\n",
       "        window.PlotlyConfig = {MathJaxConfig: 'local'};\n",
       "        if (window.MathJax) {MathJax.Hub.Config({SVG: {font: \"STIX-Web\"}});}\n",
       "        if (typeof require !== 'undefined') {\n",
       "        require.undef(\"plotly\");\n",
       "        requirejs.config({\n",
       "            paths: {\n",
       "                'plotly': ['https://cdn.plot.ly/plotly-latest.min']\n",
       "            }\n",
       "        });\n",
       "        require(['plotly'], function(Plotly) {\n",
       "            window._Plotly = Plotly;\n",
       "        });\n",
       "        }\n",
       "        </script>\n",
       "        "
      ]
     },
     "metadata": {},
     "output_type": "display_data"
    },
    {
     "name": "stdout",
     "output_type": "stream",
     "text": [
      "3.7.9 (default, Aug 31 2020, 12:42:55) \n",
      "[GCC 7.3.0]\n"
     ]
    }
   ],
   "source": [
    "%load_ext autoreload\n",
    "%autoreload 2\n",
    "\n",
    "import plotly\n",
    "\n",
    "import chart_studio.plotly as py\n",
    "from  plotly.offline import iplot\n",
    "import plotly.graph_objs as go\n",
    "plotly.offline.init_notebook_mode(connected=True)\n",
    "import cufflinks as cf\n",
    "cf.go_offline()\n",
    "\n",
    "import pandas as pd\n",
    "import numpy as np\n",
    "import glob\n",
    "import random\n",
    "from sklearn import preprocessing\n",
    "\n",
    "# Make sure we are running Python 3\n",
    "import sys\n",
    "print(sys.version)"
   ]
  },
  {
   "cell_type": "code",
   "execution_count": 40,
   "id": "technical-bhutan",
   "metadata": {},
   "outputs": [],
   "source": [
    "FOLDER_NAMES = [\"cross\", \"hook\", \"negative\"]\n",
    "GESTURES = [\"cross\", \"hook\", \"negative_trim\"]\n",
    "\n",
    "# Manually determined trims (copied from Google Sheets)\n",
    "TRIMS = pd.read_csv('trim_ms.csv', header=0, index_col=0, squeeze=True)\n",
    "TRIMS = pd.to_numeric(TRIMS, errors='coerce').to_dict()\n",
    "\n",
    "SEGMENT_LEN_MS = 1490\n",
    "SAMPLE_FREQ_HZ = 120\n",
    "SEGMENT_LEN = int(SEGMENT_LEN_MS / SAMPLE_FREQ_HZ * 10) - 5"
   ]
  },
  {
   "cell_type": "code",
   "execution_count": 41,
   "id": "seventh-compression",
   "metadata": {
    "scrolled": true
   },
   "outputs": [
    {
     "name": "stdout",
     "output_type": "stream",
     "text": [
      "cross/cross001.csv\n",
      "(169, 8)\n",
      "cross/cross002.csv\n",
      "(169, 8)\n",
      "cross/cross003.csv\n",
      "(170, 8)\n",
      "cross/cross004.csv\n",
      "(169, 8)\n",
      "cross/cross005.csv\n",
      "(169, 8)\n",
      "cross/cross006.csv\n",
      "(169, 8)\n",
      "cross/cross007.csv\n",
      "(160, 8)\n",
      "cross/cross008.csv\n",
      "(169, 8)\n",
      "cross/cross009.csv\n",
      "(169, 8)\n",
      "cross/cross010.csv\n",
      "(169, 8)\n",
      "cross/cross011.csv\n",
      "(169, 8)\n",
      "cross/cross012.csv\n",
      "(169, 8)\n",
      "cross/cross013.csv\n",
      "(169, 8)\n",
      "cross/cross014.csv\n",
      "(169, 8)\n",
      "cross/cross015.csv\n",
      "(169, 8)\n",
      "cross/cross016.csv\n",
      "(170, 8)\n",
      "cross/cross017.csv\n",
      "(169, 8)\n",
      "cross/cross018.csv\n",
      "(169, 8)\n",
      "cross/cross019.csv\n",
      "(169, 8)\n",
      "cross/cross020.csv\n",
      "(169, 8)\n",
      "cross/cross021.csv\n",
      "(170, 8)\n",
      "cross/cross022.csv\n",
      "(169, 8)\n",
      "cross/cross023.csv\n",
      "(170, 8)\n",
      "cross/cross024.csv\n",
      "(169, 8)\n",
      "cross/cross025.csv\n",
      "(169, 8)\n",
      "cross/cross026.csv\n",
      "(169, 8)\n",
      "cross/cross027.csv\n",
      "(169, 8)\n",
      "cross/cross028.csv\n",
      "(170, 8)\n",
      "cross/cross029.csv\n",
      "(170, 8)\n",
      "cross/cross030.csv\n",
      "(170, 8)\n",
      "cross/cross031.csv\n",
      "(170, 8)\n",
      "cross/cross032.csv\n",
      "(170, 8)\n",
      "cross/cross033.csv\n",
      "(171, 8)\n",
      "cross/cross034.csv\n",
      "(170, 8)\n",
      "cross/cross035.csv\n",
      "(170, 8)\n",
      "cross/cross036.csv\n",
      "(170, 8)\n",
      "cross/cross037.csv\n",
      "(170, 8)\n",
      "cross/cross038.csv\n",
      "(171, 8)\n",
      "cross/cross039.csv\n",
      "(170, 8)\n",
      "cross/cross040.csv\n",
      "(170, 8)\n",
      "cross/cross041.csv\n",
      "(170, 8)\n",
      "cross/cross042.csv\n",
      "(170, 8)\n",
      "cross/cross043.csv\n",
      "(170, 8)\n",
      "cross/cross044.csv\n",
      "(170, 8)\n",
      "cross/cross045.csv\n",
      "(170, 8)\n",
      "cross/cross046.csv\n",
      "(170, 8)\n",
      "cross/cross047.csv\n",
      "(170, 8)\n",
      "cross/cross048.csv\n",
      "(170, 8)\n",
      "cross/cross049.csv\n",
      "(170, 8)\n",
      "cross/cross050.csv\n",
      "(170, 8)\n",
      "cross/cross051.csv\n",
      "(170, 8)\n",
      "cross/cross052.csv\n",
      "(170, 8)\n",
      "cross/cross053.csv\n",
      "(170, 8)\n",
      "cross/cross054.csv\n",
      "(170, 8)\n",
      "cross/cross055.csv\n",
      "(170, 8)\n",
      "cross/cross056.csv\n",
      "(170, 8)\n",
      "cross/cross057.csv\n",
      "(170, 8)\n",
      "cross/cross058.csv\n",
      "(170, 8)\n",
      "cross/cross059.csv\n",
      "(170, 8)\n",
      "cross/cross060.csv\n",
      "(170, 8)\n",
      "cross/cross061.csv\n",
      "(170, 8)\n",
      "cross/cross062.csv\n",
      "(170, 8)\n",
      "cross/cross063.csv\n",
      "(164, 8)\n",
      "cross/cross064.csv\n",
      "(170, 8)\n",
      "cross/cross065.csv\n",
      "(170, 8)\n",
      "cross/cross066.csv\n",
      "(170, 8)\n",
      "cross/cross067.csv\n",
      "(170, 8)\n",
      "cross/cross068.csv\n",
      "(170, 8)\n",
      "cross/cross069.csv\n",
      "(170, 8)\n",
      "cross/cross070.csv\n",
      "(170, 8)\n",
      "cross/cross071.csv\n",
      "(169, 8)\n",
      "cross/cross072.csv\n",
      "(170, 8)\n",
      "cross/cross073.csv\n",
      "(170, 8)\n",
      "cross/cross074.csv\n",
      "(169, 8)\n",
      "cross/cross075.csv\n",
      "(170, 8)\n",
      "cross/cross076.csv\n",
      "(170, 8)\n",
      "cross/cross077.csv\n",
      "(170, 8)\n",
      "cross/cross078.csv\n",
      "(170, 8)\n",
      "cross/cross079.csv\n",
      "(171, 8)\n",
      "cross/cross080.csv\n",
      "(170, 8)\n",
      "cross/cross081.csv\n",
      "(170, 8)\n",
      "cross/cross082.csv\n",
      "(170, 8)\n",
      "cross/cross083.csv\n",
      "(170, 8)\n",
      "cross/cross084.csv\n",
      "(161, 8)\n",
      "cross/cross085.csv\n",
      "(170, 8)\n",
      "cross/cross086.csv\n",
      "(170, 8)\n",
      "cross/cross087.csv\n",
      "(170, 8)\n",
      "cross/cross088.csv\n",
      "(170, 8)\n",
      "cross/cross089.csv\n",
      "(169, 8)\n",
      "cross/cross090.csv\n",
      "(170, 8)\n",
      "hook/hook001.csv\n",
      "(168, 8)\n",
      "hook/hook002.csv\n",
      "(169, 8)\n",
      "hook/hook003.csv\n",
      "(168, 8)\n",
      "hook/hook004.csv\n",
      "(169, 8)\n",
      "hook/hook005.csv\n",
      "(168, 8)\n",
      "hook/hook006.csv\n",
      "(168, 8)\n",
      "hook/hook007.csv\n",
      "(168, 8)\n",
      "hook/hook008.csv\n",
      "(168, 8)\n",
      "hook/hook009.csv\n",
      "(168, 8)\n",
      "hook/hook010.csv\n",
      "(168, 8)\n",
      "hook/hook011.csv\n",
      "(168, 8)\n",
      "hook/hook012.csv\n",
      "(168, 8)\n",
      "hook/hook013.csv\n",
      "(161, 8)\n",
      "hook/hook014.csv\n",
      "(168, 8)\n",
      "hook/hook015.csv\n",
      "(168, 8)\n",
      "hook/hook016.csv\n",
      "(168, 8)\n",
      "hook/hook017.csv\n",
      "(168, 8)\n",
      "hook/hook018.csv\n",
      "(168, 8)\n",
      "hook/hook019.csv\n",
      "(168, 8)\n",
      "hook/hook020.csv\n",
      "(168, 8)\n",
      "hook/hook021.csv\n",
      "(169, 8)\n",
      "hook/hook022.csv\n",
      "(168, 8)\n",
      "hook/hook023.csv\n",
      "(159, 8)\n",
      "hook/hook024.csv\n",
      "(168, 8)\n",
      "hook/hook025.csv\n",
      "(168, 8)\n",
      "hook/hook026.csv\n",
      "(169, 8)\n",
      "hook/hook027.csv\n",
      "(169, 8)\n",
      "hook/hook028.csv\n",
      "(168, 8)\n",
      "hook/hook029.csv\n",
      "(169, 8)\n",
      "hook/hook030.csv\n",
      "(168, 8)\n",
      "hook/hook031.csv\n",
      "(168, 8)\n",
      "hook/hook032.csv\n",
      "(169, 8)\n",
      "hook/hook033.csv\n",
      "(155, 8)\n",
      "hook/hook034.csv\n",
      "(169, 8)\n",
      "hook/hook035.csv\n",
      "(168, 8)\n",
      "hook/hook036.csv\n",
      "(169, 8)\n",
      "hook/hook037.csv\n",
      "(168, 8)\n",
      "hook/hook038.csv\n",
      "(169, 8)\n",
      "hook/hook039.csv\n",
      "(168, 8)\n",
      "hook/hook040.csv\n",
      "(168, 8)\n",
      "hook/hook041.csv\n",
      "(167, 8)\n",
      "hook/hook042.csv\n",
      "(168, 8)\n",
      "hook/hook043.csv\n",
      "(168, 8)\n",
      "hook/hook044.csv\n",
      "(168, 8)\n",
      "hook/hook045.csv\n",
      "(168, 8)\n",
      "hook/hook046.csv\n",
      "(169, 8)\n",
      "hook/hook047.csv\n",
      "(168, 8)\n",
      "hook/hook048.csv\n",
      "(168, 8)\n",
      "hook/hook049.csv\n",
      "(168, 8)\n",
      "hook/hook050.csv\n",
      "(169, 8)\n",
      "hook/hook051.csv\n",
      "(168, 8)\n",
      "hook/hook052.csv\n",
      "(169, 8)\n",
      "hook/hook053.csv\n",
      "(168, 8)\n",
      "hook/hook054.csv\n",
      "(168, 8)\n",
      "hook/hook055.csv\n",
      "(169, 8)\n",
      "hook/hook056.csv\n",
      "(168, 8)\n",
      "hook/hook057.csv\n",
      "(168, 8)\n",
      "hook/hook058.csv\n",
      "(169, 8)\n",
      "hook/hook059.csv\n",
      "(168, 8)\n",
      "hook/hook060.csv\n",
      "(169, 8)\n",
      "hook/hook061.csv\n",
      "(168, 8)\n",
      "hook/hook062.csv\n",
      "(169, 8)\n",
      "hook/hook063.csv\n",
      "(169, 8)\n",
      "hook/hook064.csv\n",
      "(169, 8)\n",
      "hook/hook065.csv\n",
      "(168, 8)\n",
      "hook/hook066.csv\n",
      "(169, 8)\n",
      "hook/hook067.csv\n",
      "(169, 8)\n",
      "hook/hook068.csv\n",
      "(168, 8)\n",
      "hook/hook069.csv\n",
      "(169, 8)\n",
      "hook/hook070.csv\n",
      "(168, 8)\n",
      "negative/negative001.csv\n",
      "(1004, 8)\n",
      "negative/negative002.csv\n",
      "(1006, 8)\n",
      "negative/negative003.csv\n",
      "(1007, 8)\n",
      "negative/negative004.csv\n",
      "(998, 8)\n",
      "negative/negative005.csv\n",
      "(1008, 8)\n",
      "negative/negative006.csv\n",
      "(1007, 8)\n",
      "negative/negative007.csv\n",
      "(1005, 8)\n",
      "negative/negative008.csv\n",
      "(996, 8)\n",
      "negative/negative009.csv\n",
      "(1006, 8)\n",
      "negative/negative010.csv\n",
      "(1006, 8)\n",
      "negative/negative011.csv\n",
      "(997, 8)\n",
      "negative/negative012.csv\n",
      "(1006, 8)\n"
     ]
    }
   ],
   "source": [
    "min_max_scaler = preprocessing.MinMaxScaler()\n",
    "\n",
    "def read_data(folder_name):\n",
    "    traces = []\n",
    "    trace_names = []\n",
    "    for f in sorted(glob.glob(folder_name + \"/*.csv\")):\n",
    "        print(f)\n",
    "        filename = f[f.find('/') + 1:-4]\n",
    "        trace = pd.read_csv(f, header=0, index_col=\"time_ms\")\n",
    "        print(trace.shape)\n",
    "        trace = trace.apply(pd.to_numeric, errors='coerce')\n",
    "        trace[\"accel\"] = np.linalg.norm((trace[\"aX\"], trace[\"aY\"], trace[\"aZ\"]), axis=0)\n",
    "        trace[\"gyro\"] = np.linalg.norm((trace[\"gX\"], trace[\"gY\"], trace[\"gZ\"]), axis=0)\n",
    "        \n",
    "        \n",
    "        normalized = min_max_scaler.fit_transform(trace['aZ'].values.reshape(-1, 1))\n",
    "        normalized = normalized[:, 0]\n",
    "        trace[\"normalized_accel_z\"] = normalized\n",
    "        \n",
    "        trace_names.append(filename)\n",
    "        traces.append(trace)\n",
    "    return trace_names, traces\n",
    "        \n",
    "traces = {}\n",
    "trace_names = {}\n",
    "for folder_name in FOLDER_NAMES:\n",
    "    trace_names[folder_name], traces[folder_name] = read_data(folder_name)"
   ]
  },
  {
   "cell_type": "code",
   "execution_count": 42,
   "id": "demanding-spectacular",
   "metadata": {},
   "outputs": [],
   "source": [
    "# Split the long negative traces in 1.5 second segments\n",
    "traces[\"negative_trim\"] = []\n",
    "trace_names[\"negative_trim\"] = []\n",
    "for i, trace in enumerate(traces[\"negative\"]):\n",
    "    for j in range(0, len(trace), 500):\n",
    "        # Pad an extra 10 to make sure are generous with data points\n",
    "        traces[\"negative_trim\"].append(trace[j:j + SEGMENT_LEN_MS + 10])\n",
    "        trace_names[\"negative_trim\"].append(trace_names[\"negative\"][i] + '_' + str(j))"
   ]
  },
  {
   "cell_type": "code",
   "execution_count": 43,
   "id": "dependent-gossip",
   "metadata": {
    "scrolled": true
   },
   "outputs": [
    {
     "name": "stdout",
     "output_type": "stream",
     "text": [
      "cross001\n",
      "cross002\n",
      "cross003\n",
      "cross004\n",
      "cross005\n",
      "cross006\n",
      "cross007\n",
      "cross008\n",
      "cross009\n",
      "cross010\n",
      "cross011\n",
      "cross012\n",
      "cross013\n",
      "cross014\n",
      "cross015\n",
      "cross016\n",
      "cross017\n",
      "cross018\n",
      "cross019\n",
      "cross020\n",
      "cross021\n",
      "cross022\n",
      "cross023\n",
      "cross024\n",
      "cross025\n",
      "cross026\n",
      "cross027\n",
      "cross028\n",
      "cross029\n",
      "cross030\n",
      "cross031\n",
      "cross032\n",
      "cross033\n",
      "cross034\n",
      "cross035\n",
      "cross036\n",
      "cross037\n",
      "cross038\n",
      "cross039\n",
      "cross040\n",
      "cross041\n",
      "cross042\n",
      "cross043\n",
      "cross044\n",
      "cross045\n",
      "cross046\n",
      "cross047\n",
      "cross048\n",
      "cross049\n",
      "cross050\n",
      "cross051\n",
      "cross052\n",
      "cross053\n",
      "cross054\n",
      "cross055\n",
      "cross056\n",
      "cross057\n",
      "cross058\n",
      "cross059\n",
      "cross060\n",
      "cross061\n",
      "cross062\n",
      "cross063\n",
      "cross064\n",
      "cross065\n",
      "cross066\n",
      "cross067\n",
      "cross068\n",
      "cross069\n",
      "cross070\n",
      "cross071\n",
      "cross072\n",
      "cross073\n",
      "cross074\n",
      "cross075\n",
      "cross076\n",
      "cross077\n",
      "cross078\n",
      "cross079\n",
      "cross080\n",
      "cross081\n",
      "cross082\n",
      "cross083\n",
      "cross084\n",
      "cross085\n",
      "cross086\n",
      "cross087\n",
      "cross088\n",
      "cross089\n",
      "cross090\n",
      "hook001\n",
      "hook002\n",
      "hook003\n",
      "hook004\n",
      "hook005\n",
      "hook006\n",
      "hook007\n",
      "hook008\n",
      "hook009\n",
      "hook010\n",
      "hook011\n",
      "hook012\n",
      "hook013\n",
      "hook014\n",
      "hook015\n",
      "hook016\n",
      "hook017\n",
      "hook018\n",
      "hook019\n",
      "hook020\n",
      "hook021\n",
      "hook022\n",
      "hook023\n",
      "hook024\n",
      "hook025\n",
      "hook026\n",
      "hook027\n",
      "hook028\n",
      "hook029\n",
      "hook030\n",
      "hook031\n",
      "hook032\n",
      "hook033\n",
      "hook034\n",
      "hook035\n",
      "hook036\n",
      "hook037\n",
      "hook038\n",
      "hook039\n",
      "hook040\n",
      "hook041\n",
      "hook042\n",
      "hook043\n",
      "hook044\n",
      "hook045\n",
      "hook046\n",
      "hook047\n",
      "hook048\n",
      "hook049\n",
      "hook050\n",
      "hook051\n",
      "hook052\n",
      "hook053\n",
      "hook054\n",
      "hook055\n",
      "hook056\n",
      "hook057\n",
      "hook058\n",
      "hook059\n",
      "hook060\n",
      "hook061\n",
      "hook062\n",
      "hook063\n",
      "hook064\n",
      "hook065\n",
      "hook066\n",
      "hook067\n",
      "hook068\n",
      "hook069\n",
      "hook070\n",
      "negative001_0\n",
      "negative001_500\n",
      "negative001_1000\n",
      "negative002_0\n",
      "negative002_500\n",
      "negative002_1000\n",
      "negative003_0\n",
      "negative003_500\n",
      "negative003_1000\n",
      "negative004_0\n",
      "negative004_500\n",
      "negative005_0\n",
      "negative005_500\n",
      "negative005_1000\n",
      "negative006_0\n",
      "negative006_500\n",
      "negative006_1000\n",
      "negative007_0\n",
      "negative007_500\n",
      "negative007_1000\n",
      "negative008_0\n",
      "negative008_500\n",
      "negative009_0\n",
      "negative009_500\n",
      "negative009_1000\n",
      "negative010_0\n",
      "negative010_500\n",
      "negative010_1000\n",
      "negative011_0\n",
      "negative011_500\n",
      "negative012_0\n",
      "negative012_500\n",
      "negative012_1000\n"
     ]
    }
   ],
   "source": [
    "# Trim traces\n",
    "for gesture in GESTURES:\n",
    "    for i, trace in enumerate(traces[gesture]):\n",
    "        filename = trace_names[gesture][i]\n",
    "        \n",
    "        if filename in TRIMS:\n",
    "            trim = TRIMS[filename]  \n",
    "            if np.isnan(trim) or trim < SEGMENT_LEN_MS:\n",
    "                print('DROPPING TRACE', filename, 'TRIM IS TOO EARLY / BLACKLISTED')\n",
    "                del traces[gesture][i]\n",
    "                del trace_names[gesture][i]\n",
    "                continue\n",
    "            trim += random.randrange(0, 200)\n",
    "            trace = trace[trim - SEGMENT_LEN_MS:trim]\n",
    "            \n",
    "        if len(trace) < SEGMENT_LEN:\n",
    "            print('DROPPING TRACE', filename, 'NOT ENOUGH DATA POINTS')\n",
    "            del traces[gesture][i]\n",
    "            del trace_names[gesture][i]\n",
    "            continue\n",
    "            \n",
    "        traces[gesture][i] = trace.iloc[len(trace) - SEGMENT_LEN:]\n",
    "        print(filename)\n",
    "        trace.index = trace.index - trace.index[0]\n",
    "        traces[gesture][i] = trace"
   ]
  },
  {
   "cell_type": "code",
   "execution_count": 44,
   "id": "controlled-benjamin",
   "metadata": {},
   "outputs": [
    {
     "name": "stdout",
     "output_type": "stream",
     "text": [
      "Index(['Unnamed: 0', 'delta_ms', 'aX', 'aY', 'aZ', 'gX', 'gY', 'gZ', 'accel',\n",
      "       'gyro', 'normalized_accel_z'],\n",
      "      dtype='object')\n"
     ]
    }
   ],
   "source": [
    "print(traces[\"cross\"][0].columns)"
   ]
  },
  {
   "cell_type": "code",
   "execution_count": 45,
   "id": "private-johnson",
   "metadata": {},
   "outputs": [],
   "source": [
    "SENSORS_LIST = [\"aX\", \"aY\", \"aZ\"]\n",
    "# SENSORS_LIST = [\"gyro_degs_x\", \"gyro_degs_y\", \"gyro_degs_z\"]\n",
    "# SENSORS_LIST = [\"accel\"]\n",
    "SENSORS_LIST = [\"normalized_accel_z\"]\n",
    "def plot_all(gesture, large=False):\n",
    "    for i, trace in enumerate(traces[gesture]):\n",
    "        data = [] \n",
    "        annotations = []\n",
    "        for sensor in SENSORS_LIST:\n",
    "            data.append(go.Scatter(\n",
    "                x = trace.index,\n",
    "                y = trace[sensor],\n",
    "                name = sensor,\n",
    "                line = dict(width = 4 if large else 1)))\n",
    "            \n",
    "#             annotations.append(dict(xref='paper', x=1, y=trace[sensor].iloc[-1],\n",
    "#                                   xanchor='left', yanchor='middle',\n",
    "#                                   text=sensor,\n",
    "#                                   showarrow=False))\n",
    "        layout = go.Layout(\n",
    "            title = trace_names[gesture][i],\n",
    "            annotations = annotations,\n",
    "            font=dict(size=28 if large else 8),\n",
    "            width=1000,\n",
    "            margin=go.layout.Margin(r=200, pad=5),\n",
    "            xaxis = dict(title='Time (ms)'))\n",
    "            #showlegend=False,\n",
    "            #yaxis = dict(range=[0, 25])\n",
    "            #              )\n",
    "        iplot({'data': data, 'layout': layout}, filename='jupyter-basic_bar')"
   ]
  },
  {
   "cell_type": "code",
   "execution_count": 11,
   "id": "asian-sponsorship",
   "metadata": {
    "scrolled": true
   },
   "outputs": [],
   "source": [
    "#plot_all(\"cross\")"
   ]
  },
  {
   "cell_type": "code",
   "execution_count": 46,
   "id": "parental-grain",
   "metadata": {},
   "outputs": [
    {
     "name": "stdout",
     "output_type": "stream",
     "text": [
      "<module 'utils' from '/home/ken/Desktop/Team7/src/IMU/utils.py'>\n"
     ]
    }
   ],
   "source": [
    "import utils\n",
    "\n",
    "print(utils)\n",
    "\n",
    "def get_all_features(trace, generate_feature_names=False):\n",
    "    features = utils.get_model_features(trace, generate_feature_names)\n",
    "    \n",
    "    if generate_feature_names:\n",
    "        features.append('accel_z_peaks')\n",
    "    else:\n",
    "        normalized = min_max_scaler.fit_transform(trace['normalized_accel_z'].values.reshape(-1, 1))[:, 0] # normalize\n",
    "        normalized = normalized[0:len(normalized):5] # subsample\n",
    "        normalized = np.diff((normalized > 0.77).astype(int)) # convert to binary classifier\n",
    "        normalized = normalized[normalized>0]\n",
    "        features.append(sum(normalized))\n",
    "    \n",
    "    return features"
   ]
  },
  {
   "cell_type": "code",
   "execution_count": 47,
   "id": "electronic-bargain",
   "metadata": {
    "scrolled": true
   },
   "outputs": [
    {
     "name": "stdout",
     "output_type": "stream",
     "text": [
      "cross peak count accuracy 0.0\n"
     ]
    },
    {
     "data": {
      "image/png": "[encoded data removed]",
      "text/plain": [
       "<Figure size 432x288 with 1 Axes>"
      ]
     },
     "metadata": {
      "needs_background": "light"
     },
     "output_type": "display_data"
    },
    {
     "name": "stdout",
     "output_type": "stream",
     "text": [
      "hook peak count accuracy 0.4142857142857143\n"
     ]
    },
    {
     "data": {
      "image/png": "[encoded data removed]",
      "text/plain": [
       "<Figure size 432x288 with 1 Axes>"
      ]
     },
     "metadata": {
      "needs_background": "light"
     },
     "output_type": "display_data"
    }
   ],
   "source": [
    "# # Sandbox for developing new features\n",
    "\n",
    "import scipy.fftpack\n",
    "import matplotlib.pyplot as plot\n",
    "\n",
    "d = {'cross': [], 'hook': []}\n",
    "for gesture in d.keys():\n",
    "    for trace in traces[gesture]:\n",
    "        normalized = min_max_scaler.fit_transform(trace['normalized_accel_z'].values.reshape(-1, 1))\n",
    "        normalized = normalized[:, 0]\n",
    "        normalized = normalized[0:len(normalized):5]\n",
    "        normalized = np.diff((normalized > 0.77).astype(int))\n",
    "        normalized = normalized[normalized>0]\n",
    "        d[gesture].append(sum(normalized))\n",
    "\n",
    "    viz = pd.Series(d[gesture])\n",
    "    if gesture is 'cross':\n",
    "        print('cross peak count accuracy', float(len(viz[viz == 2])) / len(viz))\n",
    "    else: \n",
    "        print('hook peak count accuracy', float(len(viz[viz == 3])) / len(viz))\n",
    "        \n",
    "    plot.hist(d[gesture],density=1, bins=20) \n",
    "    plot.show()"
   ]
  },
  {
   "cell_type": "code",
   "execution_count": 48,
   "id": "narrow-enlargement",
   "metadata": {},
   "outputs": [],
   "source": [
    "# Feature Extraction\n",
    "\n",
    "Y = GESTURES[:]\n",
    "X = []\n",
    "FEATURE_NAMES = []\n",
    "AVG_X = []\n",
    "\n",
    "for gesture in GESTURES:\n",
    "    samples = []\n",
    "    sum_samples = []\n",
    "    for trace in traces[gesture]:\n",
    "        if not FEATURE_NAMES:\n",
    "            FEATURE_NAMES = get_all_features(trace, True)\n",
    "    \n",
    "        feature_values = get_all_features(trace)\n",
    "        \n",
    "        if not sum_samples:\n",
    "            sum_samples = feature_values[:]\n",
    "        else:\n",
    "            sum_samples = [sum_samples[i] + feature_values[i] for i in range(len(feature_values))]\n",
    "        samples.append(feature_values)\n",
    "        \n",
    "    AVG_X.append([x / float(len(traces[gesture])) for x in sum_samples])\n",
    "    X.append(samples)"
   ]
  },
  {
   "cell_type": "code",
   "execution_count": 49,
   "id": "irish-ethics",
   "metadata": {
    "scrolled": true
   },
   "outputs": [
    {
     "data": {
      "text/html": [
       "<div>\n",
       "<style scoped>\n",
       "    .dataframe tbody tr th:only-of-type {\n",
       "        vertical-align: middle;\n",
       "    }\n",
       "\n",
       "    .dataframe tbody tr th {\n",
       "        vertical-align: top;\n",
       "    }\n",
       "\n",
       "    .dataframe thead th {\n",
       "        text-align: right;\n",
       "    }\n",
       "</style>\n",
       "<table border=\"1\" class=\"dataframe\">\n",
       "  <thead>\n",
       "    <tr style=\"text-align: right;\">\n",
       "      <th></th>\n",
       "      <th>cross</th>\n",
       "      <th>hook</th>\n",
       "      <th>negative_trim</th>\n",
       "    </tr>\n",
       "  </thead>\n",
       "  <tbody>\n",
       "    <tr>\n",
       "      <th>max_accel</th>\n",
       "      <td>28772.737187</td>\n",
       "      <td>31475.568967</td>\n",
       "      <td>6894.072233</td>\n",
       "    </tr>\n",
       "    <tr>\n",
       "      <th>min_accel</th>\n",
       "      <td>1801.100689</td>\n",
       "      <td>2025.173567</td>\n",
       "      <td>2442.264408</td>\n",
       "    </tr>\n",
       "    <tr>\n",
       "      <th>range_accel</th>\n",
       "      <td>26971.636498</td>\n",
       "      <td>29450.395400</td>\n",
       "      <td>4451.807825</td>\n",
       "    </tr>\n",
       "    <tr>\n",
       "      <th>mean_accel</th>\n",
       "      <td>7122.707832</td>\n",
       "      <td>9772.419656</td>\n",
       "      <td>4345.929343</td>\n",
       "    </tr>\n",
       "    <tr>\n",
       "      <th>std_accel</th>\n",
       "      <td>4952.752451</td>\n",
       "      <td>8100.039122</td>\n",
       "      <td>1113.890180</td>\n",
       "    </tr>\n",
       "    <tr>\n",
       "      <th>max_gyro</th>\n",
       "      <td>15014.365741</td>\n",
       "      <td>12578.297798</td>\n",
       "      <td>3073.991639</td>\n",
       "    </tr>\n",
       "    <tr>\n",
       "      <th>min_gyro</th>\n",
       "      <td>165.504102</td>\n",
       "      <td>160.825315</td>\n",
       "      <td>253.135072</td>\n",
       "    </tr>\n",
       "    <tr>\n",
       "      <th>range_gyro</th>\n",
       "      <td>14848.861638</td>\n",
       "      <td>12417.472483</td>\n",
       "      <td>2820.856567</td>\n",
       "    </tr>\n",
       "    <tr>\n",
       "      <th>mean_gyro</th>\n",
       "      <td>3956.912561</td>\n",
       "      <td>3627.561382</td>\n",
       "      <td>1559.667696</td>\n",
       "    </tr>\n",
       "    <tr>\n",
       "      <th>std_gyro</th>\n",
       "      <td>4089.558988</td>\n",
       "      <td>3087.690234</td>\n",
       "      <td>683.895223</td>\n",
       "    </tr>\n",
       "    <tr>\n",
       "      <th>accel_z_peaks</th>\n",
       "      <td>0.677778</td>\n",
       "      <td>2.628571</td>\n",
       "      <td>2.090909</td>\n",
       "    </tr>\n",
       "    <tr>\n",
       "      <th>accel_z_peaks</th>\n",
       "      <td>0.677778</td>\n",
       "      <td>2.628571</td>\n",
       "      <td>2.090909</td>\n",
       "    </tr>\n",
       "  </tbody>\n",
       "</table>\n",
       "</div>"
      ],
      "text/plain": [
       "                      cross          hook  negative_trim\n",
       "max_accel      28772.737187  31475.568967    6894.072233\n",
       "min_accel       1801.100689   2025.173567    2442.264408\n",
       "range_accel    26971.636498  29450.395400    4451.807825\n",
       "mean_accel      7122.707832   9772.419656    4345.929343\n",
       "std_accel       4952.752451   8100.039122    1113.890180\n",
       "max_gyro       15014.365741  12578.297798    3073.991639\n",
       "min_gyro         165.504102    160.825315     253.135072\n",
       "range_gyro     14848.861638  12417.472483    2820.856567\n",
       "mean_gyro       3956.912561   3627.561382    1559.667696\n",
       "std_gyro        4089.558988   3087.690234     683.895223\n",
       "accel_z_peaks      0.677778      2.628571       2.090909\n",
       "accel_z_peaks      0.677778      2.628571       2.090909"
      ]
     },
     "metadata": {},
     "output_type": "display_data"
    },
    {
     "data": {
      "application/vnd.plotly.v1+json": {
       "config": {
        "linkText": "Export to plot.ly",
        "plotlyServerURL": "https://plot.ly",
        "showLink": true
       },
       "data": [
        {
         "line": {
          "color": "rgba(255, 153, 51, 1.0)",
          "dash": "solid",
          "shape": "linear",
          "width": 1.3
         },
         "mode": "lines",
         "name": "cross",
         "text": "",
         "type": "scatter",
         "x": [
          "max_accel",
          "min_accel",
          "range_accel",
          "mean_accel",
          "std_accel",
          "max_gyro",
          "min_gyro",
          "range_gyro",
          "mean_gyro",
          "std_gyro",
          "accel_z_peaks",
          "accel_z_peaks"
         ],
         "y": [
          28772.737187250677,
          1801.1006892135063,
          26971.63649803715,
          7122.7078321430345,
          4952.752451480508,
          15014.365740607405,
          165.5041024350611,
          14848.861638172353,
          3956.9125606803323,
          4089.5589882160407,
          0.6777777777777778,
          0.6777777777777778
         ]
        },
        {
         "line": {
          "color": "rgba(55, 128, 191, 1.0)",
          "dash": "solid",
          "shape": "linear",
          "width": 1.3
         },
         "mode": "lines",
         "name": "hook",
         "text": "",
         "type": "scatter",
         "x": [
          "max_accel",
          "min_accel",
          "range_accel",
          "mean_accel",
          "std_accel",
          "max_gyro",
          "min_gyro",
          "range_gyro",
          "mean_gyro",
          "std_gyro",
          "accel_z_peaks",
          "accel_z_peaks"
         ],
         "y": [
          31475.568967057956,
          2025.173567027873,
          29450.39540003008,
          9772.419656107715,
          8100.039122036545,
          12578.297797837344,
          160.82531505060297,
          12417.472482786738,
          3627.561381819567,
          3087.690234090467,
          2.6285714285714286,
          2.6285714285714286
         ]
        },
        {
         "line": {
          "color": "rgba(50, 171, 96, 1.0)",
          "dash": "solid",
          "shape": "linear",
          "width": 1.3
         },
         "mode": "lines",
         "name": "negative_trim",
         "text": "",
         "type": "scatter",
         "x": [
          "max_accel",
          "min_accel",
          "range_accel",
          "mean_accel",
          "std_accel",
          "max_gyro",
          "min_gyro",
          "range_gyro",
          "mean_gyro",
          "std_gyro",
          "accel_z_peaks",
          "accel_z_peaks"
         ],
         "y": [
          6894.072232617091,
          2442.2644081128337,
          4451.807824504256,
          4345.929343326942,
          1113.8901802948883,
          3073.991639438052,
          253.13507231646392,
          2820.856567121589,
          1559.6676963406164,
          683.8952227708327,
          2.090909090909091,
          2.090909090909091
         ]
        }
       ],
       "layout": {
        "legend": {
         "bgcolor": "#F5F6F9",
         "font": {
          "color": "#4D5663"
         }
        },
        "paper_bgcolor": "#F5F6F9",
        "plot_bgcolor": "#F5F6F9",
        "template": {
         "data": {
          "bar": [
           {
            "error_x": {
             "color": "#2a3f5f"
            },
            "error_y": {
             "color": "#2a3f5f"
            },
            "marker": {
             "line": {
              "color": "#E5ECF6",
              "width": 0.5
             }
            },
            "type": "bar"
           }
          ],
          "barpolar": [
           {
            "marker": {
             "line": {
              "color": "#E5ECF6",
              "width": 0.5
             }
            },
            "type": "barpolar"
           }
          ],
          "carpet": [
           {
            "aaxis": {
             "endlinecolor": "#2a3f5f",
             "gridcolor": "white",
             "linecolor": "white",
             "minorgridcolor": "white",
             "startlinecolor": "#2a3f5f"
            },
            "baxis": {
             "endlinecolor": "#2a3f5f",
             "gridcolor": "white",
             "linecolor": "white",
             "minorgridcolor": "white",
             "startlinecolor": "#2a3f5f"
            },
            "type": "carpet"
           }
          ],
          "choropleth": [
           {
            "colorbar": {
             "outlinewidth": 0,
             "ticks": ""
            },
            "type": "choropleth"
           }
          ],
          "contour": [
           {
            "colorbar": {
             "outlinewidth": 0,
             "ticks": ""
            },
            "colorscale": [
             [
              0,
              "#0d0887"
             ],
             [
              0.1111111111111111,
              "#46039f"
             ],
             [
              0.2222222222222222,
              "#7201a8"
             ],
             [
              0.3333333333333333,
              "#9c179e"
             ],
             [
              0.4444444444444444,
              "#bd3786"
             ],
             [
              0.5555555555555556,
              "#d8576b"
             ],
             [
              0.6666666666666666,
              "#ed7953"
             ],
             [
              0.7777777777777778,
              "#fb9f3a"
             ],
             [
              0.8888888888888888,
              "#fdca26"
             ],
             [
              1,
              "#f0f921"
             ]
            ],
            "type": "contour"
           }
          ],
          "contourcarpet": [
           {
            "colorbar": {
             "outlinewidth": 0,
             "ticks": ""
            },
            "type": "contourcarpet"
           }
          ],
          "heatmap": [
           {
            "colorbar": {
             "outlinewidth": 0,
             "ticks": ""
            },
            "colorscale": [
             [
              0,
              "#0d0887"
             ],
             [
              0.1111111111111111,
              "#46039f"
             ],
             [
              0.2222222222222222,
              "#7201a8"
             ],
             [
              0.3333333333333333,
              "#9c179e"
             ],
             [
              0.4444444444444444,
              "#bd3786"
             ],
             [
              0.5555555555555556,
              "#d8576b"
             ],
             [
              0.6666666666666666,
              "#ed7953"
             ],
             [
              0.7777777777777778,
              "#fb9f3a"
             ],
             [
              0.8888888888888888,
              "#fdca26"
             ],
             [
              1,
              "#f0f921"
             ]
            ],
            "type": "heatmap"
           }
          ],
          "heatmapgl": [
           {
            "colorbar": {
             "outlinewidth": 0,
             "ticks": ""
            },
            "colorscale": [
             [
              0,
              "#0d0887"
             ],
             [
              0.1111111111111111,
              "#46039f"
             ],
             [
              0.2222222222222222,
              "#7201a8"
             ],
             [
              0.3333333333333333,
              "#9c179e"
             ],
             [
              0.4444444444444444,
              "#bd3786"
             ],
             [
              0.5555555555555556,
              "#d8576b"
             ],
             [
              0.6666666666666666,
              "#ed7953"
             ],
             [
              0.7777777777777778,
              "#fb9f3a"
             ],
             [
              0.8888888888888888,
              "#fdca26"
             ],
             [
              1,
              "#f0f921"
             ]
            ],
            "type": "heatmapgl"
           }
          ],
          "histogram": [
           {
            "marker": {
             "colorbar": {
              "outlinewidth": 0,
              "ticks": ""
             }
            },
            "type": "histogram"
           }
          ],
          "histogram2d": [
           {
            "colorbar": {
             "outlinewidth": 0,
             "ticks": ""
            },
            "colorscale": [
             [
              0,
              "#0d0887"
             ],
             [
              0.1111111111111111,
              "#46039f"
             ],
             [
              0.2222222222222222,
              "#7201a8"
             ],
             [
              0.3333333333333333,
              "#9c179e"
             ],
             [
              0.4444444444444444,
              "#bd3786"
             ],
             [
              0.5555555555555556,
              "#d8576b"
             ],
             [
              0.6666666666666666,
              "#ed7953"
             ],
             [
              0.7777777777777778,
              "#fb9f3a"
             ],
             [
              0.8888888888888888,
              "#fdca26"
             ],
             [
              1,
              "#f0f921"
             ]
            ],
            "type": "histogram2d"
           }
          ],
          "histogram2dcontour": [
           {
            "colorbar": {
             "outlinewidth": 0,
             "ticks": ""
            },
            "colorscale": [
             [
              0,
              "#0d0887"
             ],
             [
              0.1111111111111111,
              "#46039f"
             ],
             [
              0.2222222222222222,
              "#7201a8"
             ],
             [
              0.3333333333333333,
              "#9c179e"
             ],
             [
              0.4444444444444444,
              "#bd3786"
             ],
             [
              0.5555555555555556,
              "#d8576b"
             ],
             [
              0.6666666666666666,
              "#ed7953"
             ],
             [
              0.7777777777777778,
              "#fb9f3a"
             ],
             [
              0.8888888888888888,
              "#fdca26"
             ],
             [
              1,
              "#f0f921"
             ]
            ],
            "type": "histogram2dcontour"
           }
          ],
          "mesh3d": [
           {
            "colorbar": {
             "outlinewidth": 0,
             "ticks": ""
            },
            "type": "mesh3d"
           }
          ],
          "parcoords": [
           {
            "line": {
             "colorbar": {
              "outlinewidth": 0,
              "ticks": ""
             }
            },
            "type": "parcoords"
           }
          ],
          "pie": [
           {
            "automargin": true,
            "type": "pie"
           }
          ],
          "scatter": [
           {
            "marker": {
             "colorbar": {
              "outlinewidth": 0,
              "ticks": ""
             }
            },
            "type": "scatter"
           }
          ],
          "scatter3d": [
           {
            "line": {
             "colorbar": {
              "outlinewidth": 0,
              "ticks": ""
             }
            },
            "marker": {
             "colorbar": {
              "outlinewidth": 0,
              "ticks": ""
             }
            },
            "type": "scatter3d"
           }
          ],
          "scattercarpet": [
           {
            "marker": {
             "colorbar": {
              "outlinewidth": 0,
              "ticks": ""
             }
            },
            "type": "scattercarpet"
           }
          ],
          "scattergeo": [
           {
            "marker": {
             "colorbar": {
              "outlinewidth": 0,
              "ticks": ""
             }
            },
            "type": "scattergeo"
           }
          ],
          "scattergl": [
           {
            "marker": {
             "colorbar": {
              "outlinewidth": 0,
              "ticks": ""
             }
            },
            "type": "scattergl"
           }
          ],
          "scattermapbox": [
           {
            "marker": {
             "colorbar": {
              "outlinewidth": 0,
              "ticks": ""
             }
            },
            "type": "scattermapbox"
           }
          ],
          "scatterpolar": [
           {
            "marker": {
             "colorbar": {
              "outlinewidth": 0,
              "ticks": ""
             }
            },
            "type": "scatterpolar"
           }
          ],
          "scatterpolargl": [
           {
            "marker": {
             "colorbar": {
              "outlinewidth": 0,
              "ticks": ""
             }
            },
            "type": "scatterpolargl"
           }
          ],
          "scatterternary": [
           {
            "marker": {
             "colorbar": {
              "outlinewidth": 0,
              "ticks": ""
             }
            },
            "type": "scatterternary"
           }
          ],
          "surface": [
           {
            "colorbar": {
             "outlinewidth": 0,
             "ticks": ""
            },
            "colorscale": [
             [
              0,
              "#0d0887"
             ],
             [
              0.1111111111111111,
              "#46039f"
             ],
             [
              0.2222222222222222,
              "#7201a8"
             ],
             [
              0.3333333333333333,
              "#9c179e"
             ],
             [
              0.4444444444444444,
              "#bd3786"
             ],
             [
              0.5555555555555556,
              "#d8576b"
             ],
             [
              0.6666666666666666,
              "#ed7953"
             ],
             [
              0.7777777777777778,
              "#fb9f3a"
             ],
             [
              0.8888888888888888,
              "#fdca26"
             ],
             [
              1,
              "#f0f921"
             ]
            ],
            "type": "surface"
           }
          ],
          "table": [
           {
            "cells": {
             "fill": {
              "color": "#EBF0F8"
             },
             "line": {
              "color": "white"
             }
            },
            "header": {
             "fill": {
              "color": "#C8D4E3"
             },
             "line": {
              "color": "white"
             }
            },
            "type": "table"
           }
          ]
         },
         "layout": {
          "annotationdefaults": {
           "arrowcolor": "#2a3f5f",
           "arrowhead": 0,
           "arrowwidth": 1
          },
          "autotypenumbers": "strict",
          "coloraxis": {
           "colorbar": {
            "outlinewidth": 0,
            "ticks": ""
           }
          },
          "colorscale": {
           "diverging": [
            [
             0,
             "#8e0152"
            ],
            [
             0.1,
             "#c51b7d"
            ],
            [
             0.2,
             "#de77ae"
            ],
            [
             0.3,
             "#f1b6da"
            ],
            [
             0.4,
             "#fde0ef"
            ],
            [
             0.5,
             "#f7f7f7"
            ],
            [
             0.6,
             "#e6f5d0"
            ],
            [
             0.7,
             "#b8e186"
            ],
            [
             0.8,
             "#7fbc41"
            ],
            [
             0.9,
             "#4d9221"
            ],
            [
             1,
             "#276419"
            ]
           ],
           "sequential": [
            [
             0,
             "#0d0887"
            ],
            [
             0.1111111111111111,
             "#46039f"
            ],
            [
             0.2222222222222222,
             "#7201a8"
            ],
            [
             0.3333333333333333,
             "#9c179e"
            ],
            [
             0.4444444444444444,
             "#bd3786"
            ],
            [
             0.5555555555555556,
             "#d8576b"
            ],
            [
             0.6666666666666666,
             "#ed7953"
            ],
            [
             0.7777777777777778,
             "#fb9f3a"
            ],
            [
             0.8888888888888888,
             "#fdca26"
            ],
            [
             1,
             "#f0f921"
            ]
           ],
           "sequentialminus": [
            [
             0,
             "#0d0887"
            ],
            [
             0.1111111111111111,
             "#46039f"
            ],
            [
             0.2222222222222222,
             "#7201a8"
            ],
            [
             0.3333333333333333,
             "#9c179e"
            ],
            [
             0.4444444444444444,
             "#bd3786"
            ],
            [
             0.5555555555555556,
             "#d8576b"
            ],
            [
             0.6666666666666666,
             "#ed7953"
            ],
            [
             0.7777777777777778,
             "#fb9f3a"
            ],
            [
             0.8888888888888888,
             "#fdca26"
            ],
            [
             1,
             "#f0f921"
            ]
           ]
          },
          "colorway": [
           "#636efa",
           "#EF553B",
           "#00cc96",
           "#ab63fa",
           "#FFA15A",
           "#19d3f3",
           "#FF6692",
           "#B6E880",
           "#FF97FF",
           "#FECB52"
          ],
          "font": {
           "color": "#2a3f5f"
          },
          "geo": {
           "bgcolor": "white",
           "lakecolor": "white",
           "landcolor": "#E5ECF6",
           "showlakes": true,
           "showland": true,
           "subunitcolor": "white"
          },
          "hoverlabel": {
           "align": "left"
          },
          "hovermode": "closest",
          "mapbox": {
           "style": "light"
          },
          "paper_bgcolor": "white",
          "plot_bgcolor": "#E5ECF6",
          "polar": {
           "angularaxis": {
            "gridcolor": "white",
            "linecolor": "white",
            "ticks": ""
           },
           "bgcolor": "#E5ECF6",
           "radialaxis": {
            "gridcolor": "white",
            "linecolor": "white",
            "ticks": ""
           }
          },
          "scene": {
           "xaxis": {
            "backgroundcolor": "#E5ECF6",
            "gridcolor": "white",
            "gridwidth": 2,
            "linecolor": "white",
            "showbackground": true,
            "ticks": "",
            "zerolinecolor": "white"
           },
           "yaxis": {
            "backgroundcolor": "#E5ECF6",
            "gridcolor": "white",
            "gridwidth": 2,
            "linecolor": "white",
            "showbackground": true,
            "ticks": "",
            "zerolinecolor": "white"
           },
           "zaxis": {
            "backgroundcolor": "#E5ECF6",
            "gridcolor": "white",
            "gridwidth": 2,
            "linecolor": "white",
            "showbackground": true,
            "ticks": "",
            "zerolinecolor": "white"
           }
          },
          "shapedefaults": {
           "line": {
            "color": "#2a3f5f"
           }
          },
          "ternary": {
           "aaxis": {
            "gridcolor": "white",
            "linecolor": "white",
            "ticks": ""
           },
           "baxis": {
            "gridcolor": "white",
            "linecolor": "white",
            "ticks": ""
           },
           "bgcolor": "#E5ECF6",
           "caxis": {
            "gridcolor": "white",
            "linecolor": "white",
            "ticks": ""
           }
          },
          "title": {
           "x": 0.05
          },
          "xaxis": {
           "automargin": true,
           "gridcolor": "white",
           "linecolor": "white",
           "ticks": "",
           "title": {
            "standoff": 15
           },
           "zerolinecolor": "white",
           "zerolinewidth": 2
          },
          "yaxis": {
           "automargin": true,
           "gridcolor": "white",
           "linecolor": "white",
           "ticks": "",
           "title": {
            "standoff": 15
           },
           "zerolinecolor": "white",
           "zerolinewidth": 2
          }
         }
        },
        "title": {
         "font": {
          "color": "#4D5663"
         }
        },
        "xaxis": {
         "gridcolor": "#E1E5ED",
         "showgrid": true,
         "tickfont": {
          "color": "#4D5663"
         },
         "title": {
          "font": {
           "color": "#4D5663"
          },
          "text": ""
         },
         "zerolinecolor": "#E1E5ED"
        },
        "yaxis": {
         "gridcolor": "#E1E5ED",
         "showgrid": true,
         "tickfont": {
          "color": "#4D5663"
         },
         "title": {
          "font": {
           "color": "#4D5663"
          },
          "text": ""
         },
         "zerolinecolor": "#E1E5ED"
        }
       }
      },
      "text/html": [
       "<div>                            <div id=\"c54e48fd-c684-44e7-8005-e36dd0339fb1\" class=\"plotly-graph-div\" style=\"height:525px; width:100%;\"></div>            <script type=\"text/javascript\">                require([\"plotly\"], function(Plotly) {                    window.PLOTLYENV=window.PLOTLYENV || {};\n",
       "                    window.PLOTLYENV.BASE_URL='https://plot.ly';                                    if (document.getElementById(\"c54e48fd-c684-44e7-8005-e36dd0339fb1\")) {                    Plotly.newPlot(                        \"c54e48fd-c684-44e7-8005-e36dd0339fb1\",                        [{\"line\": {\"color\": \"rgba(255, 153, 51, 1.0)\", \"dash\": \"solid\", \"shape\": \"linear\", \"width\": 1.3}, \"mode\": \"lines\", \"name\": \"cross\", \"text\": \"\", \"type\": \"scatter\", \"x\": [\"max_accel\", \"min_accel\", \"range_accel\", \"mean_accel\", \"std_accel\", \"max_gyro\", \"min_gyro\", \"range_gyro\", \"mean_gyro\", \"std_gyro\", \"accel_z_peaks\", \"accel_z_peaks\"], \"y\": [28772.737187250677, 1801.1006892135063, 26971.63649803715, 7122.7078321430345, 4952.752451480508, 15014.365740607405, 165.5041024350611, 14848.861638172353, 3956.9125606803323, 4089.5589882160407, 0.6777777777777778, 0.6777777777777778]}, {\"line\": {\"color\": \"rgba(55, 128, 191, 1.0)\", \"dash\": \"solid\", \"shape\": \"linear\", \"width\": 1.3}, \"mode\": \"lines\", \"name\": \"hook\", \"text\": \"\", \"type\": \"scatter\", \"x\": [\"max_accel\", \"min_accel\", \"range_accel\", \"mean_accel\", \"std_accel\", \"max_gyro\", \"min_gyro\", \"range_gyro\", \"mean_gyro\", \"std_gyro\", \"accel_z_peaks\", \"accel_z_peaks\"], \"y\": [31475.568967057956, 2025.173567027873, 29450.39540003008, 9772.419656107715, 8100.039122036545, 12578.297797837344, 160.82531505060297, 12417.472482786738, 3627.561381819567, 3087.690234090467, 2.6285714285714286, 2.6285714285714286]}, {\"line\": {\"color\": \"rgba(50, 171, 96, 1.0)\", \"dash\": \"solid\", \"shape\": \"linear\", \"width\": 1.3}, \"mode\": \"lines\", \"name\": \"negative_trim\", \"text\": \"\", \"type\": \"scatter\", \"x\": [\"max_accel\", \"min_accel\", \"range_accel\", \"mean_accel\", \"std_accel\", \"max_gyro\", \"min_gyro\", \"range_gyro\", \"mean_gyro\", \"std_gyro\", \"accel_z_peaks\", \"accel_z_peaks\"], \"y\": [6894.072232617091, 2442.2644081128337, 4451.807824504256, 4345.929343326942, 1113.8901802948883, 3073.991639438052, 253.13507231646392, 2820.856567121589, 1559.6676963406164, 683.8952227708327, 2.090909090909091, 2.090909090909091]}],                        {\"legend\": {\"bgcolor\": \"#F5F6F9\", \"font\": {\"color\": \"#4D5663\"}}, \"paper_bgcolor\": \"#F5F6F9\", \"plot_bgcolor\": \"#F5F6F9\", \"template\": {\"data\": {\"bar\": [{\"error_x\": {\"color\": \"#2a3f5f\"}, \"error_y\": {\"color\": \"#2a3f5f\"}, \"marker\": {\"line\": {\"color\": \"#E5ECF6\", \"width\": 0.5}}, \"type\": \"bar\"}], \"barpolar\": [{\"marker\": {\"line\": {\"color\": \"#E5ECF6\", \"width\": 0.5}}, \"type\": \"barpolar\"}], \"carpet\": [{\"aaxis\": {\"endlinecolor\": \"#2a3f5f\", \"gridcolor\": \"white\", \"linecolor\": \"white\", \"minorgridcolor\": \"white\", \"startlinecolor\": \"#2a3f5f\"}, \"baxis\": {\"endlinecolor\": \"#2a3f5f\", \"gridcolor\": \"white\", \"linecolor\": \"white\", \"minorgridcolor\": \"white\", \"startlinecolor\": \"#2a3f5f\"}, \"type\": \"carpet\"}], \"choropleth\": [{\"colorbar\": {\"outlinewidth\": 0, \"ticks\": \"\"}, \"type\": \"choropleth\"}], \"contour\": [{\"colorbar\": {\"outlinewidth\": 0, \"ticks\": \"\"}, \"colorscale\": [[0.0, \"#0d0887\"], [0.1111111111111111, \"#46039f\"], [0.2222222222222222, \"#7201a8\"], [0.3333333333333333, \"#9c179e\"], [0.4444444444444444, \"#bd3786\"], [0.5555555555555556, \"#d8576b\"], [0.6666666666666666, \"#ed7953\"], [0.7777777777777778, \"#fb9f3a\"], [0.8888888888888888, \"#fdca26\"], [1.0, \"#f0f921\"]], \"type\": \"contour\"}], \"contourcarpet\": [{\"colorbar\": {\"outlinewidth\": 0, \"ticks\": \"\"}, \"type\": \"contourcarpet\"}], \"heatmap\": [{\"colorbar\": {\"outlinewidth\": 0, \"ticks\": \"\"}, \"colorscale\": [[0.0, \"#0d0887\"], [0.1111111111111111, \"#46039f\"], [0.2222222222222222, \"#7201a8\"], [0.3333333333333333, \"#9c179e\"], [0.4444444444444444, \"#bd3786\"], [0.5555555555555556, \"#d8576b\"], [0.6666666666666666, \"#ed7953\"], [0.7777777777777778, \"#fb9f3a\"], [0.8888888888888888, \"#fdca26\"], [1.0, \"#f0f921\"]], \"type\": \"heatmap\"}], \"heatmapgl\": [{\"colorbar\": {\"outlinewidth\": 0, \"ticks\": \"\"}, \"colorscale\": [[0.0, \"#0d0887\"], [0.1111111111111111, \"#46039f\"], [0.2222222222222222, \"#7201a8\"], [0.3333333333333333, \"#9c179e\"], [0.4444444444444444, \"#bd3786\"], [0.5555555555555556, \"#d8576b\"], [0.6666666666666666, \"#ed7953\"], [0.7777777777777778, \"#fb9f3a\"], [0.8888888888888888, \"#fdca26\"], [1.0, \"#f0f921\"]], \"type\": \"heatmapgl\"}], \"histogram\": [{\"marker\": {\"colorbar\": {\"outlinewidth\": 0, \"ticks\": \"\"}}, \"type\": \"histogram\"}], \"histogram2d\": [{\"colorbar\": {\"outlinewidth\": 0, \"ticks\": \"\"}, \"colorscale\": [[0.0, \"#0d0887\"], [0.1111111111111111, \"#46039f\"], [0.2222222222222222, \"#7201a8\"], [0.3333333333333333, \"#9c179e\"], [0.4444444444444444, \"#bd3786\"], [0.5555555555555556, \"#d8576b\"], [0.6666666666666666, \"#ed7953\"], [0.7777777777777778, \"#fb9f3a\"], [0.8888888888888888, \"#fdca26\"], [1.0, \"#f0f921\"]], \"type\": \"histogram2d\"}], \"histogram2dcontour\": [{\"colorbar\": {\"outlinewidth\": 0, \"ticks\": \"\"}, \"colorscale\": [[0.0, \"#0d0887\"], [0.1111111111111111, \"#46039f\"], [0.2222222222222222, \"#7201a8\"], [0.3333333333333333, \"#9c179e\"], [0.4444444444444444, \"#bd3786\"], [0.5555555555555556, \"#d8576b\"], [0.6666666666666666, \"#ed7953\"], [0.7777777777777778, \"#fb9f3a\"], [0.8888888888888888, \"#fdca26\"], [1.0, \"#f0f921\"]], \"type\": \"histogram2dcontour\"}], \"mesh3d\": [{\"colorbar\": {\"outlinewidth\": 0, \"ticks\": \"\"}, \"type\": \"mesh3d\"}], \"parcoords\": [{\"line\": {\"colorbar\": {\"outlinewidth\": 0, \"ticks\": \"\"}}, \"type\": \"parcoords\"}], \"pie\": [{\"automargin\": true, \"type\": \"pie\"}], \"scatter\": [{\"marker\": {\"colorbar\": {\"outlinewidth\": 0, \"ticks\": \"\"}}, \"type\": \"scatter\"}], \"scatter3d\": [{\"line\": {\"colorbar\": {\"outlinewidth\": 0, \"ticks\": \"\"}}, \"marker\": {\"colorbar\": {\"outlinewidth\": 0, \"ticks\": \"\"}}, \"type\": \"scatter3d\"}], \"scattercarpet\": [{\"marker\": {\"colorbar\": {\"outlinewidth\": 0, \"ticks\": \"\"}}, \"type\": \"scattercarpet\"}], \"scattergeo\": [{\"marker\": {\"colorbar\": {\"outlinewidth\": 0, \"ticks\": \"\"}}, \"type\": \"scattergeo\"}], \"scattergl\": [{\"marker\": {\"colorbar\": {\"outlinewidth\": 0, \"ticks\": \"\"}}, \"type\": \"scattergl\"}], \"scattermapbox\": [{\"marker\": {\"colorbar\": {\"outlinewidth\": 0, \"ticks\": \"\"}}, \"type\": \"scattermapbox\"}], \"scatterpolar\": [{\"marker\": {\"colorbar\": {\"outlinewidth\": 0, \"ticks\": \"\"}}, \"type\": \"scatterpolar\"}], \"scatterpolargl\": [{\"marker\": {\"colorbar\": {\"outlinewidth\": 0, \"ticks\": \"\"}}, \"type\": \"scatterpolargl\"}], \"scatterternary\": [{\"marker\": {\"colorbar\": {\"outlinewidth\": 0, \"ticks\": \"\"}}, \"type\": \"scatterternary\"}], \"surface\": [{\"colorbar\": {\"outlinewidth\": 0, \"ticks\": \"\"}, \"colorscale\": [[0.0, \"#0d0887\"], [0.1111111111111111, \"#46039f\"], [0.2222222222222222, \"#7201a8\"], [0.3333333333333333, \"#9c179e\"], [0.4444444444444444, \"#bd3786\"], [0.5555555555555556, \"#d8576b\"], [0.6666666666666666, \"#ed7953\"], [0.7777777777777778, \"#fb9f3a\"], [0.8888888888888888, \"#fdca26\"], [1.0, \"#f0f921\"]], \"type\": \"surface\"}], \"table\": [{\"cells\": {\"fill\": {\"color\": \"#EBF0F8\"}, \"line\": {\"color\": \"white\"}}, \"header\": {\"fill\": {\"color\": \"#C8D4E3\"}, \"line\": {\"color\": \"white\"}}, \"type\": \"table\"}]}, \"layout\": {\"annotationdefaults\": {\"arrowcolor\": \"#2a3f5f\", \"arrowhead\": 0, \"arrowwidth\": 1}, \"autotypenumbers\": \"strict\", \"coloraxis\": {\"colorbar\": {\"outlinewidth\": 0, \"ticks\": \"\"}}, \"colorscale\": {\"diverging\": [[0, \"#8e0152\"], [0.1, \"#c51b7d\"], [0.2, \"#de77ae\"], [0.3, \"#f1b6da\"], [0.4, \"#fde0ef\"], [0.5, \"#f7f7f7\"], [0.6, \"#e6f5d0\"], [0.7, \"#b8e186\"], [0.8, \"#7fbc41\"], [0.9, \"#4d9221\"], [1, \"#276419\"]], \"sequential\": [[0.0, \"#0d0887\"], [0.1111111111111111, \"#46039f\"], [0.2222222222222222, \"#7201a8\"], [0.3333333333333333, \"#9c179e\"], [0.4444444444444444, \"#bd3786\"], [0.5555555555555556, \"#d8576b\"], [0.6666666666666666, \"#ed7953\"], [0.7777777777777778, \"#fb9f3a\"], [0.8888888888888888, \"#fdca26\"], [1.0, \"#f0f921\"]], \"sequentialminus\": [[0.0, \"#0d0887\"], [0.1111111111111111, \"#46039f\"], [0.2222222222222222, \"#7201a8\"], [0.3333333333333333, \"#9c179e\"], [0.4444444444444444, \"#bd3786\"], [0.5555555555555556, \"#d8576b\"], [0.6666666666666666, \"#ed7953\"], [0.7777777777777778, \"#fb9f3a\"], [0.8888888888888888, \"#fdca26\"], [1.0, \"#f0f921\"]]}, \"colorway\": [\"#636efa\", \"#EF553B\", \"#00cc96\", \"#ab63fa\", \"#FFA15A\", \"#19d3f3\", \"#FF6692\", \"#B6E880\", \"#FF97FF\", \"#FECB52\"], \"font\": {\"color\": \"#2a3f5f\"}, \"geo\": {\"bgcolor\": \"white\", \"lakecolor\": \"white\", \"landcolor\": \"#E5ECF6\", \"showlakes\": true, \"showland\": true, \"subunitcolor\": \"white\"}, \"hoverlabel\": {\"align\": \"left\"}, \"hovermode\": \"closest\", \"mapbox\": {\"style\": \"light\"}, \"paper_bgcolor\": \"white\", \"plot_bgcolor\": \"#E5ECF6\", \"polar\": {\"angularaxis\": {\"gridcolor\": \"white\", \"linecolor\": \"white\", \"ticks\": \"\"}, \"bgcolor\": \"#E5ECF6\", \"radialaxis\": {\"gridcolor\": \"white\", \"linecolor\": \"white\", \"ticks\": \"\"}}, \"scene\": {\"xaxis\": {\"backgroundcolor\": \"#E5ECF6\", \"gridcolor\": \"white\", \"gridwidth\": 2, \"linecolor\": \"white\", \"showbackground\": true, \"ticks\": \"\", \"zerolinecolor\": \"white\"}, \"yaxis\": {\"backgroundcolor\": \"#E5ECF6\", \"gridcolor\": \"white\", \"gridwidth\": 2, \"linecolor\": \"white\", \"showbackground\": true, \"ticks\": \"\", \"zerolinecolor\": \"white\"}, \"zaxis\": {\"backgroundcolor\": \"#E5ECF6\", \"gridcolor\": \"white\", \"gridwidth\": 2, \"linecolor\": \"white\", \"showbackground\": true, \"ticks\": \"\", \"zerolinecolor\": \"white\"}}, \"shapedefaults\": {\"line\": {\"color\": \"#2a3f5f\"}}, \"ternary\": {\"aaxis\": {\"gridcolor\": \"white\", \"linecolor\": \"white\", \"ticks\": \"\"}, \"baxis\": {\"gridcolor\": \"white\", \"linecolor\": \"white\", \"ticks\": \"\"}, \"bgcolor\": \"#E5ECF6\", \"caxis\": {\"gridcolor\": \"white\", \"linecolor\": \"white\", \"ticks\": \"\"}}, \"title\": {\"x\": 0.05}, \"xaxis\": {\"automargin\": true, \"gridcolor\": \"white\", \"linecolor\": \"white\", \"ticks\": \"\", \"title\": {\"standoff\": 15}, \"zerolinecolor\": \"white\", \"zerolinewidth\": 2}, \"yaxis\": {\"automargin\": true, \"gridcolor\": \"white\", \"linecolor\": \"white\", \"ticks\": \"\", \"title\": {\"standoff\": 15}, \"zerolinecolor\": \"white\", \"zerolinewidth\": 2}}}, \"title\": {\"font\": {\"color\": \"#4D5663\"}}, \"xaxis\": {\"gridcolor\": \"#E1E5ED\", \"showgrid\": true, \"tickfont\": {\"color\": \"#4D5663\"}, \"title\": {\"font\": {\"color\": \"#4D5663\"}, \"text\": \"\"}, \"zerolinecolor\": \"#E1E5ED\"}, \"yaxis\": {\"gridcolor\": \"#E1E5ED\", \"showgrid\": true, \"tickfont\": {\"color\": \"#4D5663\"}, \"title\": {\"font\": {\"color\": \"#4D5663\"}, \"text\": \"\"}, \"zerolinecolor\": \"#E1E5ED\"}},                        {\"showLink\": true, \"linkText\": \"Export to plot.ly\", \"plotlyServerURL\": \"https://plot.ly\", \"responsive\": true}                    ).then(function(){\n",
       "                            \n",
       "var gd = document.getElementById('c54e48fd-c684-44e7-8005-e36dd0339fb1');\n",
       "var x = new MutationObserver(function (mutations, observer) {{\n",
       "        var display = window.getComputedStyle(gd).display;\n",
       "        if (!display || display === 'none') {{\n",
       "            console.log([gd, 'removed!']);\n",
       "            Plotly.purge(gd);\n",
       "            observer.disconnect();\n",
       "        }}\n",
       "}});\n",
       "\n",
       "// Listen for the removal of the full notebook cells\n",
       "var notebookContainer = gd.closest('#notebook-container');\n",
       "if (notebookContainer) {{\n",
       "    x.observe(notebookContainer, {childList: true});\n",
       "}}\n",
       "\n",
       "// Listen for the clearing of the current output cell\n",
       "var outputEl = gd.closest('.output');\n",
       "if (outputEl) {{\n",
       "    x.observe(outputEl, {childList: true});\n",
       "}}\n",
       "\n",
       "                        })                };                });            </script>        </div>"
      ]
     },
     "metadata": {},
     "output_type": "display_data"
    }
   ],
   "source": [
    "average_sample = pd.DataFrame(AVG_X, Y, columns=FEATURE_NAMES).transpose()\n",
    "display(average_sample)\n",
    "average_sample.iplot()"
   ]
  },
  {
   "cell_type": "code",
   "execution_count": 50,
   "id": "architectural-reflection",
   "metadata": {},
   "outputs": [
    {
     "name": "stdout",
     "output_type": "stream",
     "text": [
      "cross 90\n",
      "hook 70\n",
      "negative_trim 33\n",
      "(129, 12)\n",
      "(64, 12)\n"
     ]
    }
   ],
   "source": [
    "for gesture in GESTURES:\n",
    "    print(gesture, len(traces[gesture]))\n",
    "    \n",
    "from sklearn.model_selection import train_test_split\n",
    "\n",
    "# Flatten the data\n",
    "X_flat = []\n",
    "y_flat = []\n",
    "for i in range(len(X)):\n",
    "    X_flat += X[i]\n",
    "    y_flat += [GESTURES[i]] * len(X[i])\n",
    "X_flat = np.array(X_flat)\n",
    "y_flat = np.array(y_flat)\n",
    "\n",
    "# Generate pretty table of all for display\n",
    "pretty_table = pd.DataFrame(X_flat, columns=FEATURE_NAMES)\n",
    "pretty_table['y'] = pd.DataFrame(y_flat)\n",
    "# display(pretty_table)\n",
    "\n",
    "# Split into training and test set\n",
    "X_train, X_test, y_train, y_test = train_test_split(X_flat, y_flat, test_size=0.33, random_state=42)\n",
    "print(X_train.shape)\n",
    "# print(y_train)\n",
    "print(X_test.shape)\n",
    "# print(y_test)"
   ]
  },
  {
   "cell_type": "code",
   "execution_count": 51,
   "id": "consolidated-newfoundland",
   "metadata": {},
   "outputs": [
    {
     "name": "stdout",
     "output_type": "stream",
     "text": [
      "Score: 1.0\n"
     ]
    },
    {
     "data": {
      "text/plain": [
       "array([[29,  0,  0],\n",
       "       [ 0, 25,  0],\n",
       "       [ 0,  0, 10]])"
      ]
     },
     "metadata": {},
     "output_type": "display_data"
    },
    {
     "data": {
      "text/html": [
       "<div>\n",
       "<style scoped>\n",
       "    .dataframe tbody tr th:only-of-type {\n",
       "        vertical-align: middle;\n",
       "    }\n",
       "\n",
       "    .dataframe tbody tr th {\n",
       "        vertical-align: top;\n",
       "    }\n",
       "\n",
       "    .dataframe thead th {\n",
       "        text-align: right;\n",
       "    }\n",
       "</style>\n",
       "<table border=\"1\" class=\"dataframe\">\n",
       "  <thead>\n",
       "    <tr style=\"text-align: right;\">\n",
       "      <th></th>\n",
       "      <th>predicted</th>\n",
       "      <th>actual</th>\n",
       "    </tr>\n",
       "  </thead>\n",
       "  <tbody>\n",
       "    <tr>\n",
       "      <th>0</th>\n",
       "      <td>cross</td>\n",
       "      <td>cross</td>\n",
       "    </tr>\n",
       "    <tr>\n",
       "      <th>1</th>\n",
       "      <td>hook</td>\n",
       "      <td>hook</td>\n",
       "    </tr>\n",
       "    <tr>\n",
       "      <th>2</th>\n",
       "      <td>cross</td>\n",
       "      <td>cross</td>\n",
       "    </tr>\n",
       "    <tr>\n",
       "      <th>3</th>\n",
       "      <td>hook</td>\n",
       "      <td>hook</td>\n",
       "    </tr>\n",
       "    <tr>\n",
       "      <th>4</th>\n",
       "      <td>hook</td>\n",
       "      <td>hook</td>\n",
       "    </tr>\n",
       "    <tr>\n",
       "      <th>...</th>\n",
       "      <td>...</td>\n",
       "      <td>...</td>\n",
       "    </tr>\n",
       "    <tr>\n",
       "      <th>59</th>\n",
       "      <td>cross</td>\n",
       "      <td>cross</td>\n",
       "    </tr>\n",
       "    <tr>\n",
       "      <th>60</th>\n",
       "      <td>negative_trim</td>\n",
       "      <td>negative_trim</td>\n",
       "    </tr>\n",
       "    <tr>\n",
       "      <th>61</th>\n",
       "      <td>negative_trim</td>\n",
       "      <td>negative_trim</td>\n",
       "    </tr>\n",
       "    <tr>\n",
       "      <th>62</th>\n",
       "      <td>negative_trim</td>\n",
       "      <td>negative_trim</td>\n",
       "    </tr>\n",
       "    <tr>\n",
       "      <th>63</th>\n",
       "      <td>hook</td>\n",
       "      <td>hook</td>\n",
       "    </tr>\n",
       "  </tbody>\n",
       "</table>\n",
       "<p>64 rows × 2 columns</p>\n",
       "</div>"
      ],
      "text/plain": [
       "        predicted         actual\n",
       "0           cross          cross\n",
       "1            hook           hook\n",
       "2           cross          cross\n",
       "3            hook           hook\n",
       "4            hook           hook\n",
       "..            ...            ...\n",
       "59          cross          cross\n",
       "60  negative_trim  negative_trim\n",
       "61  negative_trim  negative_trim\n",
       "62  negative_trim  negative_trim\n",
       "63           hook           hook\n",
       "\n",
       "[64 rows x 2 columns]"
      ]
     },
     "metadata": {},
     "output_type": "display_data"
    },
    {
     "data": {
      "text/plain": [
       "['models/193pt_model.joblib']"
      ]
     },
     "execution_count": 51,
     "metadata": {},
     "output_type": "execute_result"
    }
   ],
   "source": [
    "# Linear SVC Model\n",
    "\n",
    "# Actually train the model\n",
    "from sklearn import svm\n",
    "from sklearn.metrics import confusion_matrix\n",
    "model = svm.LinearSVC(max_iter=100000)\n",
    "model.fit(X_train, y_train) \n",
    "\n",
    "# How did we do? \n",
    "print(\"Score:\", model.score(X_test, y_test))\n",
    "predictions = model.predict(X_test)\n",
    "display(confusion_matrix(y_test, predictions))\n",
    "df = pd.concat([pd.Series(predictions), pd.Series(y_test)], axis=1)\n",
    "df.columns=[\"predicted\", \"actual\"]\n",
    "display(df)\n",
    "\n",
    "# Save the model\n",
    "import joblib\n",
    "joblib.dump(model, 'models/' + str(len(X_flat)) + 'pt_model.joblib') "
   ]
  }
 ],
 "metadata": {
  "kernelspec": {
   "display_name": "Python 3",
   "language": "python",
   "name": "python3"
  },
  "language_info": {
   "codemirror_mode": {
    "name": "ipython",
    "version": 3
   },
   "file_extension": ".py",
   "mimetype": "text/x-python",
   "name": "python",
   "nbconvert_exporter": "python",
   "pygments_lexer": "ipython3",
   "version": "3.7.9"
  }
 },
 "nbformat": 4,
 "nbformat_minor": 5
}
